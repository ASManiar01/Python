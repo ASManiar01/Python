{
 "cells": [
  {
   "cell_type": "code",
   "execution_count": 1,
   "id": "dc35d1cd",
   "metadata": {},
   "outputs": [
    {
     "name": "stdout",
     "output_type": "stream",
     "text": [
      "Enter your message: Hello, I am PIAIC student\n",
      "Hello, I am PIAIC student\n"
     ]
    }
   ],
   "source": [
    "message = input(\"Enter your message: \")\n",
    "print(message)"
   ]
  },
  {
   "cell_type": "code",
   "execution_count": 2,
   "id": "4949f0e2",
   "metadata": {},
   "outputs": [
    {
     "name": "stdout",
     "output_type": "stream",
     "text": [
      "Enter the quote you admire: We carry inside us the wonder we seek ouside\n",
      "Enter the name of the author: Rumi\n",
      "Rumi once said, \"We carry inside us the wonder we seek ouside\"\n"
     ]
    }
   ],
   "source": [
    "quote = input(\"Enter the quote you admire: \")\n",
    "quote_author = input(\"Enter the name of the author: \")\n",
    "print(quote_author + ' once said,' + ' ' + '\"' + quote + '\"')"
   ]
  },
  {
   "cell_type": "code",
   "execution_count": 3,
   "id": "241f99d7",
   "metadata": {},
   "outputs": [
    {
     "name": "stdout",
     "output_type": "stream",
     "text": [
      "Enter radius of circle: 0.5\n",
      "Area of circle with radius 0.5 is equal to 0.7853981633974483\n"
     ]
    }
   ],
   "source": [
    "import math\n",
    "radius_of_circle = float(input(\"Enter radius of circle: \"))\n",
    "area_of_circle = (math.pi) * ((radius_of_circle)**2)\n",
    "radius_of_circle_string = str(radius_of_circle)\n",
    "area_of_circle_string = str(area_of_circle)\n",
    "print(\"Area of circle with radius \" + radius_of_circle_string + \" is equal to \" + area_of_circle_string)"
   ]
  },
  {
   "cell_type": "code",
   "execution_count": 4,
   "id": "3f89f45d",
   "metadata": {},
   "outputs": [
    {
     "name": "stdout",
     "output_type": "stream",
     "text": [
      "Enter the number: -0.1\n",
      "Negative Number Entered\n"
     ]
    }
   ],
   "source": [
    "number_to_check = float(input(\"Enter the number: \"))\n",
    "if number_to_check > 0.0:\n",
    "    print(\"Positive Number Entered\")\n",
    "elif number_to_check == 0:\n",
    "    print(\"Zero Entered\")\n",
    "else:\n",
    "    print(\"Negative Number Entered\")"
   ]
  },
  {
   "cell_type": "code",
   "execution_count": 2,
   "id": "5eaa140e",
   "metadata": {},
   "outputs": [
    {
     "name": "stdout",
     "output_type": "stream",
     "text": [
      "Enter letter to check whether it is a vowel or not: U\n",
      "Letter U is Vowel\n"
     ]
    }
   ],
   "source": [
    "list_of_vowels = [\"a\", \"e\", \"i\", \"o\", \"u\"]\n",
    "letter_to_check_vowel = input(\"Enter letter to check whether it is a vowel or not: \")\n",
    "lower_letter_to_check_vowel = letter_to_check_vowel.lower()\n",
    "if lower_letter_to_check_vowel == list_of_vowels[0]:\n",
    "    print(\"Letter \" + letter_to_check_vowel + \" is Vowel\")\n",
    "elif lower_letter_to_check_vowel == list_of_vowels[1]:\n",
    "    print(\"Letter \" + letter_to_check_vowel + \" is Vowel\")\n",
    "elif lower_letter_to_check_vowel == list_of_vowels[2]:\n",
    "    print(\"Letter \" + letter_to_check_vowel + \" is Vowel\")\n",
    "elif lower_letter_to_check_vowel == list_of_vowels[3]:\n",
    "    print(\"Letter \" + letter_to_check_vowel + \" is Vowel\")\n",
    "elif lower_letter_to_check_vowel == list_of_vowels[4]:\n",
    "    print(\"Letter \" + letter_to_check_vowel + \" is Vowel\")\n",
    "else:    \n",
    "    print(\"Letter \" + letter_to_check_vowel + \" is not Vowel\")"
   ]
  },
  {
   "cell_type": "code",
   "execution_count": 3,
   "id": "65f620f0",
   "metadata": {},
   "outputs": [
    {
     "name": "stdout",
     "output_type": "stream",
     "text": [
      "Enter height in cm: 180\n",
      "Enter weight in Kg: 75\n",
      "Your BMI is 23.15\n"
     ]
    }
   ],
   "source": [
    "# BMI Calculator\n",
    "height_in_cm = float(input(\"Enter height in cm: \"))\n",
    "weight_in_kg = float(input(\"Enter weight in Kg: \"))\n",
    "height_in_m_square = (height_in_cm / 100) ** 2 # 1m = 100cm\n",
    "body_mass_index = (weight_in_kg / height_in_m_square) # BMI = Kg / m**2\n",
    "body_mass_index_round = round(body_mass_index, 2)\n",
    "print(\"Your BMI is \" + str(body_mass_index_round))"
   ]
  },
  {
   "cell_type": "code",
   "execution_count": 4,
   "id": "5d0e0f46",
   "metadata": {},
   "outputs": [
    {
     "name": "stdout",
     "output_type": "stream",
     "text": [
      "Zohaib\n",
      "ZQ\n",
      "Fabiha\n",
      "Ashfaq\n",
      "Sajjad\n"
     ]
    }
   ],
   "source": [
    "names = [\"Zohaib\", \"ZQ\", \"Fabiha\", \"Ashfaq\", \"Sajjad\"]\n",
    "for i in names:\n",
    "    print(i)"
   ]
  },
  {
   "cell_type": "code",
   "execution_count": 6,
   "id": "dfe7ae45",
   "metadata": {},
   "outputs": [
    {
     "name": "stdout",
     "output_type": "stream",
     "text": [
      "Hello Zohaib, hope you are well.\n",
      "Hello ZQ, hope you are well.\n",
      "Hello Fabiha, hope you are well.\n",
      "Hello Ashfaq, hope you are well.\n",
      "Hello Sajjad, hope you are well.\n"
     ]
    }
   ],
   "source": [
    "names = [\"Zohaib\", \"ZQ\", \"Fabiha\", \"Ashfaq\", \"Sajjad\"]\n",
    "for i in names:\n",
    "    print(\"Hello \" + i + \",\" + \" \" + \"hope you are well.\")"
   ]
  },
  {
   "cell_type": "code",
   "execution_count": 1,
   "id": "1c8ccfe6",
   "metadata": {},
   "outputs": [
    {
     "name": "stdout",
     "output_type": "stream",
     "text": [
      "First three items in the list are : ['Lamb Roast', 'Mandi']\n",
      "Middle three items from the list: ['Pizza', 'Russian Salad']\n",
      "Last three items from the list: ['Biryani', 'Beef Pulao']\n"
     ]
    }
   ],
   "source": [
    "food = [\"Lamb Roast\", \"Mandi\", \"Dampukh\", \"Pizza\", \"Russian Salad\", \"Zinger\", \"Biryani\", \"Beef Pulao\", \"Mutton Karahi\"]\n",
    "first_three_items = food[0:2]\n",
    "middle_three_items = food[3:5]\n",
    "last_three_items = food[6:8]\n",
    "print(\"First three items in the list are : \", end = \"\")\n",
    "print(first_three_items)\n",
    "print(\"Middle three items from the list: \", end = \"\")\n",
    "print(middle_three_items)\n",
    "print(\"Last three items from the list: \", end = \"\")\n",
    "print(last_three_items)"
   ]
  },
  {
   "cell_type": "code",
   "execution_count": 6,
   "id": "db3509c4",
   "metadata": {},
   "outputs": [
    {
     "name": "stdout",
     "output_type": "stream",
     "text": [
      "My favourite foods are: \n",
      "Lamb Roast\n",
      "Mandi\n",
      "Dampukh\n",
      "Pizza\n",
      "Russian Salad\n",
      "Zinger\n",
      "Biryani\n",
      "Beef Pulao\n",
      "Mutton Karahi\n",
      "Broast\n",
      "\n",
      "My friend's favourite foods are: \n",
      "Lamb Roast\n",
      "Mandi\n",
      "Dampukh\n",
      "Pizza\n",
      "Russian Salad\n",
      "Zinger\n",
      "Biryani\n",
      "Beef Pulao\n",
      "Mutton Karahi\n",
      "French Omelet\n"
     ]
    }
   ],
   "source": [
    "food = [\"Lamb Roast\", \"Mandi\", \"Dampukh\", \"Pizza\", \"Russian Salad\", \"Zinger\", \"Biryani\", \"Beef Pulao\", \"Mutton Karahi\"]\n",
    "friends_food = [\"Lamb Roast\", \"Mandi\", \"Dampukh\", \"Pizza\", \"Russian Salad\", \"Zinger\", \"Biryani\", \"Beef Pulao\", \"Mutton Karahi\"]\n",
    "food.append(\"Broast\")\n",
    "friends_food.append(\"French Omelet\")\n",
    "print(\"My favourite foods are: \")\n",
    "for i in food:\n",
    "    print(i)\n",
    "print(\"\\nMy friend's favourite foods are: \")\n",
    "for i in friends_food:\n",
    "    print(i)"
   ]
  },
  {
   "cell_type": "code",
   "execution_count": null,
   "id": "814ccce7",
   "metadata": {},
   "outputs": [],
   "source": []
  }
 ],
 "metadata": {
  "kernelspec": {
   "display_name": "Python 3 (ipykernel)",
   "language": "python",
   "name": "python3"
  },
  "language_info": {
   "codemirror_mode": {
    "name": "ipython",
    "version": 3
   },
   "file_extension": ".py",
   "mimetype": "text/x-python",
   "name": "python",
   "nbconvert_exporter": "python",
   "pygments_lexer": "ipython3",
   "version": "3.9.7"
  }
 },
 "nbformat": 4,
 "nbformat_minor": 5
}
